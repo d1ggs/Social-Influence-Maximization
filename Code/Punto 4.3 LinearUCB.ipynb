{
 "cells": [
  {
   "cell_type": "markdown",
   "metadata": {},
   "source": [
    "# LinearUCB"
   ]
  },
  {
   "cell_type": "markdown",
   "metadata": {},
   "source": [
    "In this lecture we will implement the linear UCB algorithma and then we test it in a simple influence maximization problem.\n",
    "\n",
    "We will see in which contents it's convenient this approach and then we will implement a basic environment in which the reward can be approximated by a linear combination of features vector and a coefficient vector.\n",
    "And then we will implement and test the linearUCB algorithm."
   ]
  },
  {
   "cell_type": "markdown",
   "metadata": {},
   "source": [
    "In real problem the arms space is really huge (ex 9 million of edges) and we can't observe all edges in a reasonable amount of time.\n",
    "\n",
    "So when the arms space is huge we can exploit the information gained on a subset observed arms to estimate the reward function of non-observed arms.\n",
    "\n",
    "In this case we assume a linear generalization model in which\n",
    "\n",
    "-Each arm $j$ is associated with a feature vector $x_j=(x_{j1},x_{j2},x_{j3},...,x_{jD})$ with $x_{ji}\\in [0,1]$\n",
    "(1 if the nodes share a feature, 0 if not)\n",
    "\n",
    "-The reward is a linear combination of the arm feature vector and a parameter vector $\\theta$:\n",
    "    $r_t=x_t^T \\theta$"
   ]
  },
  {
   "cell_type": "markdown",
   "metadata": {},
   "source": [
    "In our problem the parameter vector $\\theta$ is not given and it is exploited with observation on nodes activation"
   ]
  },
  {
   "cell_type": "code",
   "execution_count": 1,
   "metadata": {},
   "outputs": [],
   "source": [
    "import numpy as np\n",
    "\n",
    "\n",
    "class LinearMabEnvironment():\n",
    "    def __init__(self, n_arms, dim): \n",
    "        self.theta = np.random.dirichlet(np.ones(dim), size = 1)  \n",
    "        self.arms_features = np.random.binomial(1, 0.5, size=(n_arms, dim)) \n",
    "        self.p = np.zeros(n_arms)\n",
    "        for i in range(0,n_arms):\n",
    "            self.p[i] = np.dot(self.theta, self.arms_features[i]) \n",
    "            \n",
    "    def round(self, pulled_arm):\n",
    "        return 1 if np.random.random() < self.p[pulled_arm] else 0 \n",
    "    \n",
    "    def opt(self):\n",
    "        return np.max(self.p) "
   ]
  },
  {
   "cell_type": "markdown",
   "metadata": {},
   "source": [
    "# Algorithm Linear UCB"
   ]
  },
  {
   "cell_type": "markdown",
   "metadata": {},
   "source": [
    "Input: arms set A, parameter c>0 <br/>\n",
    "Inizialization: $B_0=0 \\in R^d,M_0=I \\in R^{dxd}$ <br/>\n",
    "For $t = 1,2,..,n$ do <br/>\n",
    "&nbsp;&nbsp;&nbsp; 1) $\\theta_{t-1}=M_{t-1}^{-1}B_{t-1}$ <br/>\n",
    "&nbsp;&nbsp;&nbsp;&nbsp;&nbsp; $UCBs=x^T\\theta_{t-1}+c\\sqrt{x^TM_{t-1}^{-1}x}$ <br/>\n",
    "&nbsp;&nbsp;&nbsp; 2) Choose the arm with maximum ucb value <br/>\n",
    "&nbsp;&nbsp;&nbsp; 3) Update matrices:<br/>\n",
    "&nbsp;&nbsp;&nbsp;&nbsp;&nbsp;&nbsp; a) $M_t=M_{t-1}$   $B_t=B_{t-1}$ <br/>\n",
    "&nbsp;&nbsp;&nbsp;&nbsp;&nbsp;&nbsp; b) $M_t=M_t+x_tx_t^T$ <br/>\n",
    "&nbsp;&nbsp;&nbsp;&nbsp;&nbsp;&nbsp;&nbsp;&nbsp;&nbsp;&nbsp; and $B_t=B_t + x_tr_t$ <br/>"
   ]
  },
  {
   "cell_type": "code",
   "execution_count": 2,
   "metadata": {},
   "outputs": [],
   "source": [
    "class LinUcbLearner():\n",
    "    def __init__(self, arms_features):\n",
    "        self.arms = arms_features\n",
    "        self.dim = arms_features.shape[1] \n",
    "        self.collected_rewards = [] \n",
    "        self.pulled_arms = [] \n",
    "        self.c = 2.0 \n",
    "        self.M = np.identity(self.dim) \n",
    "        self.b = np.atleast_2d(np.zeros(self.dim)).T \n",
    "        self.theta = np.dot(np.linalg.inv(self.M), self.b) \n",
    "        \n",
    "        \n",
    "    def compute_ucbs(self): \n",
    "        self.theta = np.dot(np.linalg.inv(self.M), self.b) \n",
    "        ucbs = [] \n",
    "        for arm in self.arms: \n",
    "            arm = np.atleast_2d(arm).T \n",
    "            ucb = np.dot(self.theta.T, arm) + self.c * np.sqrt(np.dot(arm.T, np.dot(np.linalg.inv(self.M), arm))) #1.2\n",
    "            ucbs.append(ucb[0][0])\n",
    "        return ucbs \n",
    "\n",
    "    def pull_arm(self):\n",
    "        ucbs = self.compute_ucbs() \n",
    "        return np.argmax(ucbs)\n",
    "\n",
    "    def update_estimation(self, arm_idx, reward):\n",
    "        arm = np.atleast_2d(self.arms[arm_idx]).T \n",
    "        self.M += np.dot(arm, arm.T)\n",
    "        self.b += reward * arm  \n",
    "        \n",
    "    def update (self, arm_idx, reward):\n",
    "        self.pulled_arms.append(arm_idx) \n",
    "        self.collected_rewards.append(reward) \n",
    "        self.update_estimation (arm_idx, reward)"
   ]
  },
  {
   "cell_type": "code",
   "execution_count": 5,
   "metadata": {},
   "outputs": [
    {
     "name": "stderr",
     "output_type": "stream",
     "text": [
      "100%|██████████| 1000/1000 [00:02<00:00, 403.87it/s]\n",
      "100%|██████████| 1000/1000 [00:02<00:00, 407.44it/s]\n",
      "100%|██████████| 1000/1000 [00:02<00:00, 406.49it/s]\n",
      "100%|██████████| 1000/1000 [00:02<00:00, 401.30it/s]\n",
      "100%|██████████| 1000/1000 [00:02<00:00, 408.07it/s]\n",
      "100%|██████████| 1000/1000 [00:02<00:00, 405.91it/s]\n",
      "100%|██████████| 1000/1000 [00:02<00:00, 408.02it/s]\n",
      "100%|██████████| 1000/1000 [00:02<00:00, 405.20it/s]\n",
      "100%|██████████| 1000/1000 [00:02<00:00, 408.94it/s]\n",
      "100%|██████████| 1000/1000 [00:02<00:00, 409.49it/s]\n",
      "100%|██████████| 1000/1000 [00:02<00:00, 407.66it/s]\n",
      "100%|██████████| 1000/1000 [00:02<00:00, 409.70it/s]\n",
      "100%|██████████| 1000/1000 [00:02<00:00, 407.88it/s]\n",
      "100%|██████████| 1000/1000 [00:02<00:00, 410.26it/s]\n",
      "100%|██████████| 1000/1000 [00:02<00:00, 408.90it/s]\n",
      "100%|██████████| 1000/1000 [00:02<00:00, 411.20it/s]\n",
      "100%|██████████| 1000/1000 [00:02<00:00, 406.79it/s]\n",
      "100%|██████████| 1000/1000 [00:02<00:00, 411.46it/s]\n",
      "100%|██████████| 1000/1000 [00:02<00:00, 411.40it/s]\n",
      "100%|██████████| 1000/1000 [00:02<00:00, 400.73it/s]\n"
     ]
    },
    {
     "data": {
      "image/png": "[encoded data removed]",
      "text/plain": [
       "<Figure size 432x288 with 1 Axes>"
      ]
     },
     "metadata": {
      "needs_background": "light"
     },
     "output_type": "display_data"
    }
   ],
   "source": [
    "import matplotlib.pyplot as plt\n",
    "from tqdm import tqdm\n",
    "\n",
    "n_arms = 100 \n",
    "T = 1000\n",
    "n_experiments = 20\n",
    "lin_ucb_rewards_per_experiment = []\n",
    "\n",
    "env = LinearMabEnvironment (n_arms=n_arms, dim=4)\n",
    "\n",
    "for e in range (0,n_experiments):\n",
    "    lin_ucb_learner = LinUcbLearner(arms_features=env.arms_features) \n",
    "    for t in tqdm(range(0,T)):\n",
    "        pulled_arm = lin_ucb_learner.pull_arm()\n",
    "        reward = env.round(pulled_arm)\n",
    "        lin_ucb_learner.update(pulled_arm, reward)\n",
    "        \n",
    "    lin_ucb_rewards_per_experiment.append(lin_ucb_learner.collected_rewards)\n",
    "    \n",
    "\n",
    "opt = env.opt() \n",
    "\n",
    "plt.figure(0) \n",
    "plt.title(\"LinearUCB Influence Maximization\\n\")\n",
    "plt.ylabel(\"Regret\") \n",
    "plt.xlabel(\"T\") \n",
    "plt.plot(np.cumsum(np.mean(opt - lin_ucb_rewards_per_experiment, axis=0)), 'r') \n",
    "plt.plot(opt, 'g')\n",
    "plt.savefig(\"linearUCB-regret-{}n-{}T.png\".format(n_arms,T), dpi=200)\n",
    "plt.show()"
   ]
  },
  {
   "cell_type": "markdown",
   "metadata": {},
   "source": [
    "The Regret increases logaritmically as steps increase <br/>\n",
    "Compare this with TS in the same settings"
   ]
  },
  {
   "cell_type": "code",
   "execution_count": null,
   "metadata": {},
   "outputs": [],
   "source": []
  }
 ],
 "metadata": {
  "kernelspec": {
   "display_name": "Python 3",
   "language": "python",
   "name": "python3"
  },
  "language_info": {
   "codemirror_mode": {
    "name": "ipython",
    "version": 3
   },
   "file_extension": ".py",
   "mimetype": "text/x-python",
   "name": "python",
   "nbconvert_exporter": "python",
   "pygments_lexer": "ipython3",
   "version": "3.6.8"
  }
 },
 "nbformat": 4,
 "nbformat_minor": 2
}
